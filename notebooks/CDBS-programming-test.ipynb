{
 "cells": [
  {
   "cell_type": "markdown",
   "id": "4cb280de-b041-4e76-80e8-78869e4db272",
   "metadata": {},
   "source": [
    "# CDBS Programming Test  \n",
    "If you are familiar with the Jupyter environment, you can use this notebook to complete the programming test.  Once you have completed the test, you can either:\n",
    "  1. Save the notebook as a PDF or HTML file and email the file to us. \n",
    "  2. Upload the notebook to your own GitHub repository and send us a link to the notebook.  \n",
    "\n",
    "If you decide to upload the notebook to GitHub, please use the [NBViewer](https://nbviewer.org/) website to create a URL for your notebook.\n",
    "\n",
    "The `pandas` and `sqlite3` libraries have already been referenced in the notebook. It is your responsibilty to ensure the libraries are installed on your system. You can reuse the `conn` object to excute SQL queries."
   ]
  },
  {
   "cell_type": "code",
   "execution_count": 1,
   "id": "f2dbc413-5936-4e37-8938-d804ae4715c2",
   "metadata": {},
   "outputs": [],
   "source": [
    "import pandas as pd\n",
    "import sqlite3"
   ]
  },
  {
   "cell_type": "markdown",
   "id": "481d43df-d73b-4eb3-89e9-7520e15b040e",
   "metadata": {},
   "source": [
    "**Connect to the drug  information database**"
   ]
  },
  {
   "cell_type": "code",
   "execution_count": 2,
   "id": "5b5cac1a-cff1-4b52-9ab0-9b9c13450487",
   "metadata": {},
   "outputs": [],
   "source": [
    "conn = sqlite3.connect('../data/drug_info.db')"
   ]
  },
  {
   "cell_type": "markdown",
   "id": "11b278ac-cca9-48f7-a717-21fc320a1edc",
   "metadata": {},
   "source": [
    "**You can use the `conn` connection object to execute SQL queries and display results like this.**"
   ]
  },
  {
   "cell_type": "code",
   "execution_count": 3,
   "id": "4231848b-8b7d-4a1b-b1ee-467cad5c50af",
   "metadata": {},
   "outputs": [
    {
     "data": {
      "text/html": [
       "<div>\n",
       "<style scoped>\n",
       "    .dataframe tbody tr th:only-of-type {\n",
       "        vertical-align: middle;\n",
       "    }\n",
       "\n",
       "    .dataframe tbody tr th {\n",
       "        vertical-align: top;\n",
       "    }\n",
       "\n",
       "    .dataframe thead th {\n",
       "        text-align: right;\n",
       "    }\n",
       "</style>\n",
       "<table border=\"1\" class=\"dataframe\">\n",
       "  <thead>\n",
       "    <tr style=\"text-align: right;\">\n",
       "      <th></th>\n",
       "      <th>Prscrbr_NPI</th>\n",
       "      <th>Brnd_Name</th>\n",
       "      <th>Gnrc_Name</th>\n",
       "    </tr>\n",
       "  </thead>\n",
       "  <tbody>\n",
       "    <tr>\n",
       "      <th>0</th>\n",
       "      <td>1003004573</td>\n",
       "      <td>Allopurinol</td>\n",
       "      <td>Allopurinol</td>\n",
       "    </tr>\n",
       "    <tr>\n",
       "      <th>1</th>\n",
       "      <td>1003004573</td>\n",
       "      <td>Amlodipine Besylate</td>\n",
       "      <td>Amlodipine Besylate</td>\n",
       "    </tr>\n",
       "    <tr>\n",
       "      <th>2</th>\n",
       "      <td>1003004573</td>\n",
       "      <td>Atorvastatin Calcium</td>\n",
       "      <td>Atorvastatin Calcium</td>\n",
       "    </tr>\n",
       "    <tr>\n",
       "      <th>3</th>\n",
       "      <td>1003004573</td>\n",
       "      <td>Carvedilol</td>\n",
       "      <td>Carvedilol</td>\n",
       "    </tr>\n",
       "    <tr>\n",
       "      <th>4</th>\n",
       "      <td>1003004573</td>\n",
       "      <td>Clopidogrel</td>\n",
       "      <td>Clopidogrel Bisulfate</td>\n",
       "    </tr>\n",
       "  </tbody>\n",
       "</table>\n",
       "</div>"
      ],
      "text/plain": [
       "   Prscrbr_NPI             Brnd_Name              Gnrc_Name\n",
       "0   1003004573           Allopurinol            Allopurinol\n",
       "1   1003004573   Amlodipine Besylate    Amlodipine Besylate\n",
       "2   1003004573  Atorvastatin Calcium   Atorvastatin Calcium\n",
       "3   1003004573            Carvedilol             Carvedilol\n",
       "4   1003004573           Clopidogrel  Clopidogrel Bisulfate"
      ]
     },
     "execution_count": 3,
     "metadata": {},
     "output_type": "execute_result"
    }
   ],
   "source": [
    "pd.read_sql('select * from prescription limit 5', conn)"
   ]
  },
  {
   "cell_type": "markdown",
   "id": "0792a31f-ce53-49e3-9955-a38173a1858d",
   "metadata": {},
   "source": [
    "---"
   ]
  },
  {
   "cell_type": "markdown",
   "id": "9144d4a4-44a7-4fe1-ad8f-bf2068b8ddbe",
   "metadata": {},
   "source": [
    "### Excercise 1 \n",
    "**Write SQL queries to find out how many rows are in the `provider` and `prescription` tables.**"
   ]
  },
  {
   "cell_type": "code",
   "execution_count": null,
   "id": "6fb7ae4c-d9b1-46b5-91cc-4a3813f5a5ed",
   "metadata": {},
   "outputs": [],
   "source": []
  },
  {
   "cell_type": "code",
   "execution_count": null,
   "id": "fac165f1-9173-4e91-a4e2-32bb8bec9b2e",
   "metadata": {},
   "outputs": [],
   "source": []
  },
  {
   "cell_type": "code",
   "execution_count": null,
   "id": "802cd7d3-d3c0-404c-a81a-604c37d92149",
   "metadata": {},
   "outputs": [],
   "source": []
  },
  {
   "cell_type": "markdown",
   "id": "28313096-cb1f-403c-901e-5d198c32f9e1",
   "metadata": {},
   "source": [
    "---"
   ]
  },
  {
   "cell_type": "markdown",
   "id": "c0a7bf19-c215-401e-84f8-eb0372123d86",
   "metadata": {},
   "source": [
    "### Excercise 2 \n",
    "**Write an SQL query that uses the `Prscrbr_Type` field in the `provider` table to find the unique provider types.**"
   ]
  },
  {
   "cell_type": "code",
   "execution_count": null,
   "id": "733a5d07-0077-4a57-99e4-6ee11baf9b62",
   "metadata": {},
   "outputs": [],
   "source": []
  },
  {
   "cell_type": "code",
   "execution_count": null,
   "id": "9d15d10f-ab76-49f6-a4a8-1da6f59cdc74",
   "metadata": {},
   "outputs": [],
   "source": []
  },
  {
   "cell_type": "code",
   "execution_count": null,
   "id": "59e8618a-93d2-4add-9740-34c368ec35e2",
   "metadata": {},
   "outputs": [],
   "source": []
  },
  {
   "cell_type": "markdown",
   "id": "fdee653f-a720-48af-b48b-4350ad731b6a",
   "metadata": {},
   "source": [
    "---"
   ]
  },
  {
   "cell_type": "markdown",
   "id": "90d112ac-44c0-430f-a45b-d861a9be7434",
   "metadata": {},
   "source": [
    "### Excercise 3 \n",
    "**Write an SQL query to get a count for each of the unique provider types.**"
   ]
  },
  {
   "cell_type": "code",
   "execution_count": null,
   "id": "61aeef1b-965b-4c3d-aad3-9a77b34fc633",
   "metadata": {},
   "outputs": [],
   "source": []
  },
  {
   "cell_type": "code",
   "execution_count": null,
   "id": "cb8442d4-44af-42bb-93f9-cf76f12b0ff1",
   "metadata": {},
   "outputs": [],
   "source": []
  },
  {
   "cell_type": "code",
   "execution_count": null,
   "id": "ede4f2b6-cf0a-4611-bc0f-a6a8fdcc380e",
   "metadata": {},
   "outputs": [],
   "source": []
  },
  {
   "cell_type": "markdown",
   "id": "acbd2769-29f9-4b4d-8c58-b9913cb46b20",
   "metadata": {},
   "source": [
    "---"
   ]
  },
  {
   "cell_type": "markdown",
   "id": "2b130a6e-ebad-452e-83e2-5e34f625847d",
   "metadata": {},
   "source": [
    "### Excercise 4 \n",
    "**Write an SQL query that uses the `Prscrbr_Type` field in the `provider` table to create a subset of the `prescription` table that only includes prescriptions made by dental providers with the following specialties:**\n",
    "- **Dentist**\n",
    "- **Maxillofacial Surgery**\n",
    "- **Oral & Maxillofacial Surgery**\n",
    "- **Oral Surgery (Dentist only)**\n",
    "\n",
    "**Save the results into a dataframe. This dataframe will be used in other exercises.**"
   ]
  },
  {
   "cell_type": "code",
   "execution_count": null,
   "id": "d0caf0d5-232b-4fc4-8023-009387d7cc94",
   "metadata": {},
   "outputs": [],
   "source": []
  },
  {
   "cell_type": "code",
   "execution_count": null,
   "id": "d13c6e77-0124-4d35-a04b-ad0fecc16db8",
   "metadata": {},
   "outputs": [],
   "source": []
  },
  {
   "cell_type": "code",
   "execution_count": null,
   "id": "c80b805c-2a15-4932-a9ba-36866ac0599f",
   "metadata": {},
   "outputs": [],
   "source": []
  },
  {
   "cell_type": "markdown",
   "id": "dd8e0e18-ef88-4dca-84c7-902c3e0f64be",
   "metadata": {},
   "source": [
    "---"
   ]
  },
  {
   "cell_type": "markdown",
   "id": "a9859dbb-c0e9-4786-933e-f8952090bbcb",
   "metadata": {},
   "source": [
    "### Excercise 5 \n",
    "**Using the dataframe from *Excercise 4*, group the data by the `Brnd_Name` column and report how many brands are in each group.**   \n",
    "**Report top 5 highest brand names.**"
   ]
  },
  {
   "cell_type": "code",
   "execution_count": null,
   "id": "71784871-f9c7-428e-bc84-44dc67f14aa2",
   "metadata": {},
   "outputs": [],
   "source": []
  },
  {
   "cell_type": "code",
   "execution_count": null,
   "id": "f2a1a2e2-52e2-4ce6-bd14-f19565ae3254",
   "metadata": {},
   "outputs": [],
   "source": []
  },
  {
   "cell_type": "code",
   "execution_count": null,
   "id": "b777c2ae-daed-41d9-8dbf-02a9fba2c074",
   "metadata": {},
   "outputs": [],
   "source": []
  },
  {
   "cell_type": "markdown",
   "id": "55735f92-ad95-4549-a307-ebf239d2bebf",
   "metadata": {},
   "source": [
    "---"
   ]
  },
  {
   "cell_type": "markdown",
   "id": "da710d52-f9d0-403f-ba64-030b695e0dc8",
   "metadata": {},
   "source": [
    "### Excercise 6  \n",
    "**Write an SQL query to output the same information produced in Excercise 5.**"
   ]
  },
  {
   "cell_type": "code",
   "execution_count": null,
   "id": "106c798e-f20f-4bac-843f-648d390f0468",
   "metadata": {},
   "outputs": [],
   "source": []
  },
  {
   "cell_type": "code",
   "execution_count": null,
   "id": "461340bd-7306-4640-b5c8-8a4784bab722",
   "metadata": {},
   "outputs": [],
   "source": []
  },
  {
   "cell_type": "code",
   "execution_count": null,
   "id": "7191c9c5-b9c0-4514-98a4-b327255c5a02",
   "metadata": {},
   "outputs": [],
   "source": []
  },
  {
   "cell_type": "markdown",
   "id": "1190565b-7d45-46c5-8d4b-af0e31ffff7b",
   "metadata": {},
   "source": [
    "---"
   ]
  },
  {
   "cell_type": "markdown",
   "id": "4dcda68e-f66c-47dd-813a-d9a8eee47a15",
   "metadata": {},
   "source": [
    "### Excercise 7  \n",
    "**Write an SQL query to determine how many records in the `provider` table have a null value in the `Tot_Benes` field.**"
   ]
  },
  {
   "cell_type": "code",
   "execution_count": null,
   "id": "e1a12f13-052d-4f33-8307-f3a33ad9be8d",
   "metadata": {},
   "outputs": [],
   "source": []
  },
  {
   "cell_type": "code",
   "execution_count": null,
   "id": "2a969c55-94ba-4855-a217-ce1e70fb60aa",
   "metadata": {},
   "outputs": [],
   "source": []
  },
  {
   "cell_type": "code",
   "execution_count": null,
   "id": "e7dedd41-d677-4cd4-aef8-18ee7743a128",
   "metadata": {},
   "outputs": [],
   "source": []
  },
  {
   "cell_type": "markdown",
   "id": "a54bd824-56fb-4d21-9370-77d17fdbba31",
   "metadata": {},
   "source": [
    "---"
   ]
  },
  {
   "cell_type": "markdown",
   "id": "7732c8ea-d473-48fc-b641-73096d057930",
   "metadata": {},
   "source": [
    "### Excercise 8  \n",
    "**Use a dataframe to determine how many records in the `provider` table have a null value in the `Tot_Benes` field.**"
   ]
  },
  {
   "cell_type": "code",
   "execution_count": null,
   "id": "2281a4ed-a0bb-4c6b-a24b-b522458acab6",
   "metadata": {},
   "outputs": [],
   "source": []
  },
  {
   "cell_type": "code",
   "execution_count": null,
   "id": "32b25e57-b866-4ddc-947d-b05556bbf932",
   "metadata": {},
   "outputs": [],
   "source": []
  },
  {
   "cell_type": "markdown",
   "id": "be313919-15de-4330-bb38-41217dffc73d",
   "metadata": {},
   "source": [
    "---"
   ]
  },
  {
   "cell_type": "markdown",
   "id": "c2712d0c-496f-47db-ac9d-dc4ea9841f3c",
   "metadata": {},
   "source": [
    "### Excercise 9  \n",
    "**In the `drug_name` table, the `Opioid Flag` field indicates if a drug is an opioid; Y = yes, N = no.**  \n",
    "**Use this information to write an SQL query that find the 10 most prescibed brand name (i.e., `Brnd_Name`) opioids in the `prescription` table, and provide a count of each brand name.**  "
   ]
  },
  {
   "cell_type": "code",
   "execution_count": null,
   "id": "660472cd-de27-46fe-ae94-5449bc97ce76",
   "metadata": {},
   "outputs": [],
   "source": []
  },
  {
   "cell_type": "code",
   "execution_count": null,
   "id": "b055a2a7-a643-4596-be0e-33c29bc573ff",
   "metadata": {},
   "outputs": [],
   "source": []
  },
  {
   "cell_type": "code",
   "execution_count": null,
   "id": "0c799cdb-bd4d-4099-8aa5-87210e872844",
   "metadata": {},
   "outputs": [],
   "source": []
  },
  {
   "cell_type": "markdown",
   "id": "5a178966-42d3-4157-9cf0-299bd9e91d49",
   "metadata": {},
   "source": [
    "---"
   ]
  },
  {
   "cell_type": "markdown",
   "id": "5bdf2564-2094-4cf8-8197-f6a48d6c8f62",
   "metadata": {},
   "source": [
    "## Exercise 10   \n",
    "**Use a dataframe to find the information asked for in Excercise 9.**"
   ]
  },
  {
   "cell_type": "code",
   "execution_count": null,
   "id": "4c787eee-c08b-4e94-acb2-9a793d429518",
   "metadata": {},
   "outputs": [],
   "source": []
  },
  {
   "cell_type": "code",
   "execution_count": null,
   "id": "61c435ca-aabc-4058-82d7-069f2b4bdb49",
   "metadata": {},
   "outputs": [],
   "source": []
  },
  {
   "cell_type": "code",
   "execution_count": null,
   "id": "888f4aef-90a5-4dcb-ac6c-37b4bec09b45",
   "metadata": {},
   "outputs": [],
   "source": []
  },
  {
   "cell_type": "markdown",
   "id": "8c150a59-4773-4fdd-9285-64baa659348d",
   "metadata": {},
   "source": [
    "---"
   ]
  },
  {
   "cell_type": "markdown",
   "id": "69f1f58f-8ddc-4074-a8a2-8f989acd5f3f",
   "metadata": {},
   "source": [
    "### Excercise 11  \n",
    "**Using the dataframe from *Exercise 4* that subsetted the prescriptions by speciality, find the opioids prescribed for each specialty.**"
   ]
  },
  {
   "cell_type": "code",
   "execution_count": null,
   "id": "e67b0fc9-9b36-4bb9-9a0d-763eaed6b318",
   "metadata": {},
   "outputs": [],
   "source": []
  },
  {
   "cell_type": "code",
   "execution_count": null,
   "id": "e28a2c40-bdda-487f-99d7-a166e10ba0f4",
   "metadata": {},
   "outputs": [],
   "source": []
  },
  {
   "cell_type": "code",
   "execution_count": null,
   "id": "2ea4b0ad-8cab-46c1-9ce4-271fad68a87c",
   "metadata": {},
   "outputs": [],
   "source": []
  },
  {
   "cell_type": "code",
   "execution_count": null,
   "id": "bf71a05a-cb69-4188-9a6d-6b3e6b3602fb",
   "metadata": {},
   "outputs": [],
   "source": []
  },
  {
   "cell_type": "markdown",
   "id": "25e5fc61-c38a-4898-9571-d3a2eb91d12a",
   "metadata": {},
   "source": [
    "---"
   ]
  },
  {
   "cell_type": "markdown",
   "id": "4aea821a-a054-45ca-a19f-2752efbf4648",
   "metadata": {},
   "source": [
    "## Exercise 12   \n",
    "**Write an SQL query that produces the same information asked for in *Excercise 11*.**"
   ]
  },
  {
   "cell_type": "code",
   "execution_count": null,
   "id": "9d8e9ae3-6b8a-46b0-9ba1-bb099bbb0cde",
   "metadata": {},
   "outputs": [],
   "source": []
  },
  {
   "cell_type": "code",
   "execution_count": null,
   "id": "dc68d4b0-c5eb-48a0-9a6f-c01bf123bf8f",
   "metadata": {},
   "outputs": [],
   "source": []
  }
 ],
 "metadata": {
  "kernelspec": {
   "display_name": "Python 3 (ipykernel)",
   "language": "python",
   "name": "python3"
  },
  "language_info": {
   "codemirror_mode": {
    "name": "ipython",
    "version": 3
   },
   "file_extension": ".py",
   "mimetype": "text/x-python",
   "name": "python",
   "nbconvert_exporter": "python",
   "pygments_lexer": "ipython3",
   "version": "3.11.9"
  }
 },
 "nbformat": 4,
 "nbformat_minor": 5
}
