{
 "cells": [
  {
   "cell_type": "markdown",
   "id": "95b27fba-681a-49f7-8bbb-fc0f289fe1ef",
   "metadata": {},
   "source": [
    "# CDBS Programming Test Data Prep\n",
    "Steps\n",
    "- download 2022 prescription and provider data from:\n",
    "  - https://data.cms.gov/provider-summary-by-type-of-service/medicare-part-d-prescribers/medicare-part-d-prescribers-by-provider-and-drug\n",
    "    - data dictionary: https://data.cms.gov/resources/medicare-part-d-prescribers-by-provider-and-drug-data-dictionary\n",
    "  - https://data.cms.gov/provider-summary-by-type-of-service/medicare-part-d-prescribers/medicare-part-d-prescribers-by-provider\n",
    "    - data dictionary: https://data.cms.gov/resources/medicare-part-d-prescribers-by-provider-data-dictionary\n",
    "- rename datasets\n",
    "  - MUP_DPR_RY24_P04_V10_DY22_NPIBN.csv -> prescribers_provider_and_drug.csv\n",
    "  - MUP_DPR_RY24_P04_V10_DY22_NPI.csv -> prescribers_provider.csv\n",
    "- load data into pandas\n",
    "- drop shared columns\n",
    "- randomly select 10,000 providers\n",
    "- subset datases to the randomly selected providers\n",
    "- save Rx and provider data in sqlite db\n",
    "- save drug name data to sqlite db"
   ]
  },
  {
   "cell_type": "code",
   "execution_count": 1,
   "id": "2b73673e-d967-4c3a-9ac0-bcb0d769899c",
   "metadata": {},
   "outputs": [],
   "source": [
    "import pandas as pd\n",
    "import sqlite3\n",
    "import random"
   ]
  },
  {
   "cell_type": "markdown",
   "id": "1324fac0-5f31-4d8a-b495-e6add808da17",
   "metadata": {},
   "source": [
    "## load prescription and provider tables"
   ]
  },
  {
   "cell_type": "code",
   "execution_count": 2,
   "id": "127a0792-7491-4914-b999-20b4bb255193",
   "metadata": {},
   "outputs": [],
   "source": [
    "rx_df = pd.read_csv('../data/prescribers_provider_and_drug.csv', encoding='ISO-8859-1', dtype={'Prscrbr_State_FIPS': 'string'})"
   ]
  },
  {
   "cell_type": "code",
   "execution_count": 3,
   "id": "2182dc27-b473-45d1-8f9f-2407bc87979c",
   "metadata": {},
   "outputs": [
    {
     "data": {
      "text/plain": [
       "25869521"
      ]
     },
     "execution_count": 3,
     "metadata": {},
     "output_type": "execute_result"
    }
   ],
   "source": [
    "len(rx_df)"
   ]
  },
  {
   "cell_type": "code",
   "execution_count": 4,
   "id": "cb0bce95-041e-4ac6-9949-13e983bbcb7f",
   "metadata": {},
   "outputs": [],
   "source": [
    "provider_df = pd.read_csv('../data/prescribers_provider.csv', encoding='ISO-8859-1')"
   ]
  },
  {
   "cell_type": "code",
   "execution_count": 5,
   "id": "ebc7e684-7ff7-44bd-a7b2-c148fe7c3e45",
   "metadata": {},
   "outputs": [
    {
     "data": {
      "text/plain": [
       "1332309"
      ]
     },
     "execution_count": 5,
     "metadata": {},
     "output_type": "execute_result"
    }
   ],
   "source": [
    "len(provider_df)"
   ]
  },
  {
   "cell_type": "code",
   "execution_count": 6,
   "id": "4c229fd8-c3e1-49b0-ac31-8999c32cd22b",
   "metadata": {},
   "outputs": [
    {
     "data": {
      "text/plain": [
       "['GE65_Sprsn_Flag',\n",
       " 'Prscrbr_State_FIPS',\n",
       " 'GE65_Tot_Drug_Cst',\n",
       " 'GE65_Tot_Day_Suply',\n",
       " 'Tot_Drug_Cst',\n",
       " 'Prscrbr_First_Name',\n",
       " 'Tot_30day_Fills',\n",
       " 'Prscrbr_City',\n",
       " 'Prscrbr_State_Abrvtn',\n",
       " 'Prscrbr_NPI',\n",
       " 'Prscrbr_Type',\n",
       " 'GE65_Tot_Benes',\n",
       " 'Tot_Benes',\n",
       " 'Prscrbr_Last_Org_Name',\n",
       " 'Prscrbr_Type_Src',\n",
       " 'GE65_Tot_Clms',\n",
       " 'GE65_Bene_Sprsn_Flag',\n",
       " 'Tot_Day_Suply',\n",
       " 'GE65_Tot_30day_Fills',\n",
       " 'Tot_Clms']"
      ]
     },
     "execution_count": 6,
     "metadata": {},
     "output_type": "execute_result"
    }
   ],
   "source": [
    "shared_cols = list(set(rx_df.columns).intersection(set(provider_df.columns)))\n",
    "shared_cols"
   ]
  },
  {
   "cell_type": "markdown",
   "id": "af4e2090-53f2-4d0e-8768-4f03bd76d029",
   "metadata": {},
   "source": [
    "## drop shared columns from prescriptions for simplicty\n",
    "note: keep the `Prscrbr_NPI` column"
   ]
  },
  {
   "cell_type": "code",
   "execution_count": 7,
   "id": "bf7c074e-cf49-46c0-b20e-f4b4d06e96b0",
   "metadata": {},
   "outputs": [
    {
     "data": {
      "text/plain": [
       "False"
      ]
     },
     "execution_count": 7,
     "metadata": {},
     "output_type": "execute_result"
    }
   ],
   "source": [
    "shared_cols.remove('Prscrbr_NPI')\n",
    "'Prscrbr_NPI' in shared_cols"
   ]
  },
  {
   "cell_type": "code",
   "execution_count": 8,
   "id": "c22e1e15-4224-4f22-878e-afe1e3081dc6",
   "metadata": {},
   "outputs": [],
   "source": [
    "rx_df = rx_df.drop(columns=shared_cols, axis=1)"
   ]
  },
  {
   "cell_type": "markdown",
   "id": "c034c166-4f8c-4923-beb3-943bc76e62a9",
   "metadata": {},
   "source": [
    "## randomly choose 10,000 providers"
   ]
  },
  {
   "cell_type": "code",
   "execution_count": 9,
   "id": "66414726-e0a3-4523-80c6-2a3ccb21bce5",
   "metadata": {},
   "outputs": [
    {
     "data": {
      "text/plain": [
       "1332309"
      ]
     },
     "execution_count": 9,
     "metadata": {},
     "output_type": "execute_result"
    }
   ],
   "source": [
    "len(provider_df.Prscrbr_NPI.to_list())"
   ]
  },
  {
   "cell_type": "code",
   "execution_count": 10,
   "id": "18cf2eb7-8452-49c9-a4a2-c245756c81f5",
   "metadata": {},
   "outputs": [
    {
     "data": {
      "text/plain": [
       "10000"
      ]
     },
     "execution_count": 10,
     "metadata": {},
     "output_type": "execute_result"
    }
   ],
   "source": [
    "prv_ids = random.sample(provider_df.Prscrbr_NPI.to_list(), 10_000)\n",
    "len(set(prv_ids))"
   ]
  },
  {
   "cell_type": "markdown",
   "id": "d7dbadc6-e326-4b9a-9cb3-b6968f27eb72",
   "metadata": {},
   "source": [
    "## subset tables"
   ]
  },
  {
   "cell_type": "code",
   "execution_count": 11,
   "id": "beaa4a3b-7f73-4d1a-9a07-9ad75fdb1653",
   "metadata": {},
   "outputs": [
    {
     "data": {
      "text/plain": [
       "10000"
      ]
     },
     "execution_count": 11,
     "metadata": {},
     "output_type": "execute_result"
    }
   ],
   "source": [
    "prv_df_subset = provider_df[provider_df.Prscrbr_NPI.isin(prv_ids)]\n",
    "prv_df_subset.set_index('Prscrbr_NPI', inplace=True) # for the providers table use Prscrbr_NPI as the index\n",
    "len(prv_df_subset)"
   ]
  },
  {
   "cell_type": "code",
   "execution_count": 12,
   "id": "af763894-e293-4e30-bd77-f3247ac6c576",
   "metadata": {},
   "outputs": [
    {
     "data": {
      "text/plain": [
       "194969"
      ]
     },
     "execution_count": 12,
     "metadata": {},
     "output_type": "execute_result"
    }
   ],
   "source": [
    "rx_df_subset = rx_df[rx_df.Prscrbr_NPI.isin(prv_ids)]\n",
    "len(rx_df_subset)"
   ]
  },
  {
   "cell_type": "code",
   "execution_count": 13,
   "id": "f6412ed8-5d17-4c4c-886f-a2b9746484d7",
   "metadata": {},
   "outputs": [
    {
     "data": {
      "text/plain": [
       "7995"
      ]
     },
     "execution_count": 13,
     "metadata": {},
     "output_type": "execute_result"
    }
   ],
   "source": [
    "len(list(rx_df_subset.Prscrbr_NPI.unique())) # note: not all 10,000 Prscrbr_NPI were found in provider and drug data subset"
   ]
  },
  {
   "cell_type": "code",
   "execution_count": 14,
   "id": "bde0a4df-f74a-4462-bf6a-8605b9fe14b8",
   "metadata": {},
   "outputs": [
    {
     "data": {
      "text/plain": [
       "7995"
      ]
     },
     "execution_count": 14,
     "metadata": {},
     "output_type": "execute_result"
    }
   ],
   "source": [
    "len(list(rx_df_subset.Prscrbr_NPI.unique()))"
   ]
  },
  {
   "cell_type": "markdown",
   "id": "e1c08bc0-5506-4b54-85c7-40fb2ec5126b",
   "metadata": {},
   "source": [
    "## save prescription and provider data to sqlite"
   ]
  },
  {
   "cell_type": "code",
   "execution_count": 15,
   "id": "36eac860-80ec-48e5-9cbc-ef1979bec9f5",
   "metadata": {},
   "outputs": [],
   "source": [
    "con = sqlite3.connect('../data/drug_info.db')"
   ]
  },
  {
   "cell_type": "code",
   "execution_count": 16,
   "id": "95e89831-ce05-49e4-aa37-01550a94b529",
   "metadata": {},
   "outputs": [
    {
     "data": {
      "text/plain": [
       "10000"
      ]
     },
     "execution_count": 16,
     "metadata": {},
     "output_type": "execute_result"
    }
   ],
   "source": [
    "prv_df_subset.to_sql('provider', con, if_exists='replace')"
   ]
  },
  {
   "cell_type": "code",
   "execution_count": 17,
   "id": "66daf036-4a3d-4d29-9138-00f5e511979c",
   "metadata": {},
   "outputs": [
    {
     "data": {
      "text/plain": [
       "194969"
      ]
     },
     "execution_count": 17,
     "metadata": {},
     "output_type": "execute_result"
    }
   ],
   "source": [
    "rx_df_subset.to_sql('prescription', con, if_exists='replace', index=False)"
   ]
  },
  {
   "cell_type": "markdown",
   "id": "d0461756-5986-4fb2-9d84-c76995a8d656",
   "metadata": {},
   "source": [
    "## save drug name data to sqlite"
   ]
  },
  {
   "cell_type": "code",
   "execution_count": 18,
   "id": "0553f35f-11c2-49e5-908e-557f0126ae2c",
   "metadata": {},
   "outputs": [
    {
     "data": {
      "text/plain": [
       "466"
      ]
     },
     "execution_count": 18,
     "metadata": {},
     "output_type": "execute_result"
    }
   ],
   "source": [
    "drug_name_df = pd.read_csv('../data/drug-names.csv')\n",
    "len(drug_name_df)"
   ]
  },
  {
   "cell_type": "code",
   "execution_count": 19,
   "id": "6dd96bc2-21a5-4a7c-9bb3-d1436e24eed0",
   "metadata": {},
   "outputs": [
    {
     "data": {
      "text/plain": [
       "466"
      ]
     },
     "execution_count": 19,
     "metadata": {},
     "output_type": "execute_result"
    }
   ],
   "source": [
    "drug_name_df.to_sql('drug_name', con, if_exists='replace', index=False)"
   ]
  },
  {
   "cell_type": "code",
   "execution_count": null,
   "id": "20be7cd6-2a8b-4ac9-8b51-f901e5ebadd4",
   "metadata": {},
   "outputs": [],
   "source": []
  }
 ],
 "metadata": {
  "kernelspec": {
   "display_name": "Python 3 (ipykernel)",
   "language": "python",
   "name": "python3"
  },
  "language_info": {
   "codemirror_mode": {
    "name": "ipython",
    "version": 3
   },
   "file_extension": ".py",
   "mimetype": "text/x-python",
   "name": "python",
   "nbconvert_exporter": "python",
   "pygments_lexer": "ipython3",
   "version": "3.11.9"
  }
 },
 "nbformat": 4,
 "nbformat_minor": 5
}
